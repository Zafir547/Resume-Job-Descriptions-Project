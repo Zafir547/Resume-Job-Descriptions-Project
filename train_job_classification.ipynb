{
 "cells": [
  {
   "cell_type": "markdown",
   "metadata": {},
   "source": [
    "# Import Library"
   ]
  },
  {
   "cell_type": "code",
   "execution_count": 1,
   "metadata": {},
   "outputs": [],
   "source": [
    "import os\n",
    "import re\n",
    "import joblib\n",
    "import pandas as pd\n",
    "import matplotlib.pyplot as plt\n",
    "import seaborn as sns\n",
    "\n",
    "from sklearn.model_selection import train_test_split\n",
    "from sklearn.metrics import accuracy_score, classification_report, confusion_matrix\n",
    "from sklearn.tree import DecisionTreeClassifier\n",
    "from sklearn.ensemble import RandomForestClassifier\n",
    "from sklearn.feature_extraction.text import TfidfVectorizer\n",
    "from sklearn.preprocessing import LabelEncoder"
   ]
  },
  {
   "cell_type": "markdown",
   "metadata": {},
   "source": [
    "# Load the Dataset"
   ]
  },
  {
   "cell_type": "code",
   "execution_count": null,
   "metadata": {},
   "outputs": [],
   "source": [
    "data_path = \"job_descriptions.csv\""
   ]
  },
  {
   "cell_type": "code",
   "execution_count": 5,
   "metadata": {},
   "outputs": [],
   "source": [
    "df = pd.read_csv(data_path)"
   ]
  },
  {
   "cell_type": "code",
   "execution_count": 6,
   "metadata": {},
   "outputs": [
    {
     "data": {
      "text/plain": [
       "(1615940, 23)"
      ]
     },
     "execution_count": 6,
     "metadata": {},
     "output_type": "execute_result"
    }
   ],
   "source": [
    "df.shape"
   ]
  },
  {
   "cell_type": "code",
   "execution_count": 9,
   "metadata": {},
   "outputs": [
    {
     "name": "stdout",
     "output_type": "stream",
     "text": [
      "Initial dataset shape: (1615940, 23)\n",
      "Dataset preview:\n",
      "             Job Id     Experience Qualifications Salary Range    location  \\\n",
      "0  1089843540111562  5 to 15 Years         M.Tech    $59K-$99K     Douglas   \n",
      "1   398454096642776  2 to 12 Years            BCA   $56K-$116K    Ashgabat   \n",
      "2   481640072963533  0 to 12 Years            PhD   $61K-$104K       Macao   \n",
      "3   688192671473044  4 to 11 Years            PhD    $65K-$91K  Porto-Novo   \n",
      "4   117057806156508  1 to 12 Years            MBA    $64K-$87K    Santiago   \n",
      "\n",
      "            Country  latitude  longitude  Work Type  Company Size  ...  \\\n",
      "0       Isle of Man   54.2361    -4.5481     Intern         26801  ...   \n",
      "1      Turkmenistan   38.9697    59.5563     Intern        100340  ...   \n",
      "2  Macao SAR, China   22.1987   113.5439  Temporary         84525  ...   \n",
      "3             Benin    9.3077     2.3158  Full-Time        129896  ...   \n",
      "4             Chile  -35.6751   -71.5429     Intern         53944  ...   \n",
      "\n",
      "                 Contact                     Job Title  \\\n",
      "0   001-381-930-7517x737  Digital Marketing Specialist   \n",
      "1           461-509-4216                 Web Developer   \n",
      "2             9687619505            Operations Manager   \n",
      "3  +1-820-643-5431x47576              Network Engineer   \n",
      "4      343.975.4702x9340                 Event Manager   \n",
      "\n",
      "                        Role    Job Portal  \\\n",
      "0       Social Media Manager      Snagajob   \n",
      "1     Frontend Web Developer      Idealist   \n",
      "2    Quality Control Manager  Jobs2Careers   \n",
      "3  Wireless Network Engineer      FlexJobs   \n",
      "4         Conference Manager  Jobs2Careers   \n",
      "\n",
      "                                     Job Description  \\\n",
      "0  Social Media Managers oversee an organizations...   \n",
      "1  Frontend Web Developers design and implement u...   \n",
      "2  Quality Control Managers establish and enforce...   \n",
      "3  Wireless Network Engineers design, implement, ...   \n",
      "4  A Conference Manager coordinates and manages c...   \n",
      "\n",
      "                                            Benefits  \\\n",
      "0  {'Flexible Spending Accounts (FSAs), Relocatio...   \n",
      "1  {'Health Insurance, Retirement Plans, Paid Tim...   \n",
      "2  {'Legal Assistance, Bonuses and Incentive Prog...   \n",
      "3  {'Transportation Benefits, Professional Develo...   \n",
      "4  {'Flexible Spending Accounts (FSAs), Relocatio...   \n",
      "\n",
      "                                              skills  \\\n",
      "0  Social media platforms (e.g., Facebook, Twitte...   \n",
      "1  HTML, CSS, JavaScript Frontend frameworks (e.g...   \n",
      "2  Quality control processes and methodologies St...   \n",
      "3  Wireless network design and architecture Wi-Fi...   \n",
      "4  Event planning Conference logistics Budget man...   \n",
      "\n",
      "                                    Responsibilities  \\\n",
      "0  Manage and grow social media accounts, create ...   \n",
      "1  Design and code user interfaces for websites, ...   \n",
      "2  Establish and enforce quality control standard...   \n",
      "3  Design, configure, and optimize wireless netwo...   \n",
      "4  Specialize in conference and convention planni...   \n",
      "\n",
      "                            Company  \\\n",
      "0                 Icahn Enterprises   \n",
      "1      PNC Financial Services Group   \n",
      "2  United Services Automobile Assn.   \n",
      "3                              Hess   \n",
      "4                      Cairn Energy   \n",
      "\n",
      "                                     Company Profile  \n",
      "0  {\"Sector\":\"Diversified\",\"Industry\":\"Diversifie...  \n",
      "1  {\"Sector\":\"Financial Services\",\"Industry\":\"Com...  \n",
      "2  {\"Sector\":\"Insurance\",\"Industry\":\"Insurance: P...  \n",
      "3  {\"Sector\":\"Energy\",\"Industry\":\"Mining, Crude-O...  \n",
      "4  {\"Sector\":\"Energy\",\"Industry\":\"Energy - Oil & ...  \n",
      "\n",
      "[5 rows x 23 columns]\n"
     ]
    }
   ],
   "source": [
    "print(\"Initial dataset shape:\", df.shape)\n",
    "print(\"Dataset preview:\")\n",
    "print(df.head())"
   ]
  },
  {
   "cell_type": "code",
   "execution_count": 7,
   "metadata": {},
   "outputs": [
    {
     "data": {
      "text/html": [
       "<div>\n",
       "<style scoped>\n",
       "    .dataframe tbody tr th:only-of-type {\n",
       "        vertical-align: middle;\n",
       "    }\n",
       "\n",
       "    .dataframe tbody tr th {\n",
       "        vertical-align: top;\n",
       "    }\n",
       "\n",
       "    .dataframe thead th {\n",
       "        text-align: right;\n",
       "    }\n",
       "</style>\n",
       "<table border=\"1\" class=\"dataframe\">\n",
       "  <thead>\n",
       "    <tr style=\"text-align: right;\">\n",
       "      <th></th>\n",
       "      <th>Job Id</th>\n",
       "      <th>Experience</th>\n",
       "      <th>Qualifications</th>\n",
       "      <th>Salary Range</th>\n",
       "      <th>location</th>\n",
       "      <th>Country</th>\n",
       "      <th>latitude</th>\n",
       "      <th>longitude</th>\n",
       "      <th>Work Type</th>\n",
       "      <th>Company Size</th>\n",
       "      <th>...</th>\n",
       "      <th>Contact</th>\n",
       "      <th>Job Title</th>\n",
       "      <th>Role</th>\n",
       "      <th>Job Portal</th>\n",
       "      <th>Job Description</th>\n",
       "      <th>Benefits</th>\n",
       "      <th>skills</th>\n",
       "      <th>Responsibilities</th>\n",
       "      <th>Company</th>\n",
       "      <th>Company Profile</th>\n",
       "    </tr>\n",
       "  </thead>\n",
       "  <tbody>\n",
       "    <tr>\n",
       "      <th>0</th>\n",
       "      <td>1089843540111562</td>\n",
       "      <td>5 to 15 Years</td>\n",
       "      <td>M.Tech</td>\n",
       "      <td>$59K-$99K</td>\n",
       "      <td>Douglas</td>\n",
       "      <td>Isle of Man</td>\n",
       "      <td>54.2361</td>\n",
       "      <td>-4.5481</td>\n",
       "      <td>Intern</td>\n",
       "      <td>26801</td>\n",
       "      <td>...</td>\n",
       "      <td>001-381-930-7517x737</td>\n",
       "      <td>Digital Marketing Specialist</td>\n",
       "      <td>Social Media Manager</td>\n",
       "      <td>Snagajob</td>\n",
       "      <td>Social Media Managers oversee an organizations...</td>\n",
       "      <td>{'Flexible Spending Accounts (FSAs), Relocatio...</td>\n",
       "      <td>Social media platforms (e.g., Facebook, Twitte...</td>\n",
       "      <td>Manage and grow social media accounts, create ...</td>\n",
       "      <td>Icahn Enterprises</td>\n",
       "      <td>{\"Sector\":\"Diversified\",\"Industry\":\"Diversifie...</td>\n",
       "    </tr>\n",
       "    <tr>\n",
       "      <th>1</th>\n",
       "      <td>398454096642776</td>\n",
       "      <td>2 to 12 Years</td>\n",
       "      <td>BCA</td>\n",
       "      <td>$56K-$116K</td>\n",
       "      <td>Ashgabat</td>\n",
       "      <td>Turkmenistan</td>\n",
       "      <td>38.9697</td>\n",
       "      <td>59.5563</td>\n",
       "      <td>Intern</td>\n",
       "      <td>100340</td>\n",
       "      <td>...</td>\n",
       "      <td>461-509-4216</td>\n",
       "      <td>Web Developer</td>\n",
       "      <td>Frontend Web Developer</td>\n",
       "      <td>Idealist</td>\n",
       "      <td>Frontend Web Developers design and implement u...</td>\n",
       "      <td>{'Health Insurance, Retirement Plans, Paid Tim...</td>\n",
       "      <td>HTML, CSS, JavaScript Frontend frameworks (e.g...</td>\n",
       "      <td>Design and code user interfaces for websites, ...</td>\n",
       "      <td>PNC Financial Services Group</td>\n",
       "      <td>{\"Sector\":\"Financial Services\",\"Industry\":\"Com...</td>\n",
       "    </tr>\n",
       "    <tr>\n",
       "      <th>2</th>\n",
       "      <td>481640072963533</td>\n",
       "      <td>0 to 12 Years</td>\n",
       "      <td>PhD</td>\n",
       "      <td>$61K-$104K</td>\n",
       "      <td>Macao</td>\n",
       "      <td>Macao SAR, China</td>\n",
       "      <td>22.1987</td>\n",
       "      <td>113.5439</td>\n",
       "      <td>Temporary</td>\n",
       "      <td>84525</td>\n",
       "      <td>...</td>\n",
       "      <td>9687619505</td>\n",
       "      <td>Operations Manager</td>\n",
       "      <td>Quality Control Manager</td>\n",
       "      <td>Jobs2Careers</td>\n",
       "      <td>Quality Control Managers establish and enforce...</td>\n",
       "      <td>{'Legal Assistance, Bonuses and Incentive Prog...</td>\n",
       "      <td>Quality control processes and methodologies St...</td>\n",
       "      <td>Establish and enforce quality control standard...</td>\n",
       "      <td>United Services Automobile Assn.</td>\n",
       "      <td>{\"Sector\":\"Insurance\",\"Industry\":\"Insurance: P...</td>\n",
       "    </tr>\n",
       "    <tr>\n",
       "      <th>3</th>\n",
       "      <td>688192671473044</td>\n",
       "      <td>4 to 11 Years</td>\n",
       "      <td>PhD</td>\n",
       "      <td>$65K-$91K</td>\n",
       "      <td>Porto-Novo</td>\n",
       "      <td>Benin</td>\n",
       "      <td>9.3077</td>\n",
       "      <td>2.3158</td>\n",
       "      <td>Full-Time</td>\n",
       "      <td>129896</td>\n",
       "      <td>...</td>\n",
       "      <td>+1-820-643-5431x47576</td>\n",
       "      <td>Network Engineer</td>\n",
       "      <td>Wireless Network Engineer</td>\n",
       "      <td>FlexJobs</td>\n",
       "      <td>Wireless Network Engineers design, implement, ...</td>\n",
       "      <td>{'Transportation Benefits, Professional Develo...</td>\n",
       "      <td>Wireless network design and architecture Wi-Fi...</td>\n",
       "      <td>Design, configure, and optimize wireless netwo...</td>\n",
       "      <td>Hess</td>\n",
       "      <td>{\"Sector\":\"Energy\",\"Industry\":\"Mining, Crude-O...</td>\n",
       "    </tr>\n",
       "    <tr>\n",
       "      <th>4</th>\n",
       "      <td>117057806156508</td>\n",
       "      <td>1 to 12 Years</td>\n",
       "      <td>MBA</td>\n",
       "      <td>$64K-$87K</td>\n",
       "      <td>Santiago</td>\n",
       "      <td>Chile</td>\n",
       "      <td>-35.6751</td>\n",
       "      <td>-71.5429</td>\n",
       "      <td>Intern</td>\n",
       "      <td>53944</td>\n",
       "      <td>...</td>\n",
       "      <td>343.975.4702x9340</td>\n",
       "      <td>Event Manager</td>\n",
       "      <td>Conference Manager</td>\n",
       "      <td>Jobs2Careers</td>\n",
       "      <td>A Conference Manager coordinates and manages c...</td>\n",
       "      <td>{'Flexible Spending Accounts (FSAs), Relocatio...</td>\n",
       "      <td>Event planning Conference logistics Budget man...</td>\n",
       "      <td>Specialize in conference and convention planni...</td>\n",
       "      <td>Cairn Energy</td>\n",
       "      <td>{\"Sector\":\"Energy\",\"Industry\":\"Energy - Oil &amp; ...</td>\n",
       "    </tr>\n",
       "  </tbody>\n",
       "</table>\n",
       "<p>5 rows × 23 columns</p>\n",
       "</div>"
      ],
      "text/plain": [
       "             Job Id     Experience Qualifications Salary Range    location  \\\n",
       "0  1089843540111562  5 to 15 Years         M.Tech    $59K-$99K     Douglas   \n",
       "1   398454096642776  2 to 12 Years            BCA   $56K-$116K    Ashgabat   \n",
       "2   481640072963533  0 to 12 Years            PhD   $61K-$104K       Macao   \n",
       "3   688192671473044  4 to 11 Years            PhD    $65K-$91K  Porto-Novo   \n",
       "4   117057806156508  1 to 12 Years            MBA    $64K-$87K    Santiago   \n",
       "\n",
       "            Country  latitude  longitude  Work Type  Company Size  ...  \\\n",
       "0       Isle of Man   54.2361    -4.5481     Intern         26801  ...   \n",
       "1      Turkmenistan   38.9697    59.5563     Intern        100340  ...   \n",
       "2  Macao SAR, China   22.1987   113.5439  Temporary         84525  ...   \n",
       "3             Benin    9.3077     2.3158  Full-Time        129896  ...   \n",
       "4             Chile  -35.6751   -71.5429     Intern         53944  ...   \n",
       "\n",
       "                 Contact                     Job Title  \\\n",
       "0   001-381-930-7517x737  Digital Marketing Specialist   \n",
       "1           461-509-4216                 Web Developer   \n",
       "2             9687619505            Operations Manager   \n",
       "3  +1-820-643-5431x47576              Network Engineer   \n",
       "4      343.975.4702x9340                 Event Manager   \n",
       "\n",
       "                        Role    Job Portal  \\\n",
       "0       Social Media Manager      Snagajob   \n",
       "1     Frontend Web Developer      Idealist   \n",
       "2    Quality Control Manager  Jobs2Careers   \n",
       "3  Wireless Network Engineer      FlexJobs   \n",
       "4         Conference Manager  Jobs2Careers   \n",
       "\n",
       "                                     Job Description  \\\n",
       "0  Social Media Managers oversee an organizations...   \n",
       "1  Frontend Web Developers design and implement u...   \n",
       "2  Quality Control Managers establish and enforce...   \n",
       "3  Wireless Network Engineers design, implement, ...   \n",
       "4  A Conference Manager coordinates and manages c...   \n",
       "\n",
       "                                            Benefits  \\\n",
       "0  {'Flexible Spending Accounts (FSAs), Relocatio...   \n",
       "1  {'Health Insurance, Retirement Plans, Paid Tim...   \n",
       "2  {'Legal Assistance, Bonuses and Incentive Prog...   \n",
       "3  {'Transportation Benefits, Professional Develo...   \n",
       "4  {'Flexible Spending Accounts (FSAs), Relocatio...   \n",
       "\n",
       "                                              skills  \\\n",
       "0  Social media platforms (e.g., Facebook, Twitte...   \n",
       "1  HTML, CSS, JavaScript Frontend frameworks (e.g...   \n",
       "2  Quality control processes and methodologies St...   \n",
       "3  Wireless network design and architecture Wi-Fi...   \n",
       "4  Event planning Conference logistics Budget man...   \n",
       "\n",
       "                                    Responsibilities  \\\n",
       "0  Manage and grow social media accounts, create ...   \n",
       "1  Design and code user interfaces for websites, ...   \n",
       "2  Establish and enforce quality control standard...   \n",
       "3  Design, configure, and optimize wireless netwo...   \n",
       "4  Specialize in conference and convention planni...   \n",
       "\n",
       "                            Company  \\\n",
       "0                 Icahn Enterprises   \n",
       "1      PNC Financial Services Group   \n",
       "2  United Services Automobile Assn.   \n",
       "3                              Hess   \n",
       "4                      Cairn Energy   \n",
       "\n",
       "                                     Company Profile  \n",
       "0  {\"Sector\":\"Diversified\",\"Industry\":\"Diversifie...  \n",
       "1  {\"Sector\":\"Financial Services\",\"Industry\":\"Com...  \n",
       "2  {\"Sector\":\"Insurance\",\"Industry\":\"Insurance: P...  \n",
       "3  {\"Sector\":\"Energy\",\"Industry\":\"Mining, Crude-O...  \n",
       "4  {\"Sector\":\"Energy\",\"Industry\":\"Energy - Oil & ...  \n",
       "\n",
       "[5 rows x 23 columns]"
      ]
     },
     "execution_count": 7,
     "metadata": {},
     "output_type": "execute_result"
    }
   ],
   "source": [
    "df.head()"
   ]
  },
  {
   "cell_type": "markdown",
   "metadata": {},
   "source": [
    "# Data Cleaning and Preparation\n"
   ]
  },
  {
   "cell_type": "code",
   "execution_count": 10,
   "metadata": {},
   "outputs": [
    {
     "name": "stdout",
     "output_type": "stream",
     "text": [
      "Shape after removing duplicates: (1615940, 23)\n"
     ]
    }
   ],
   "source": [
    "# Remove duplicate rows\n",
    "df.drop_duplicates(inplace=True)\n",
    "print(\"Shape after removing duplicates:\", df.shape)\n"
   ]
  },
  {
   "cell_type": "code",
   "execution_count": 12,
   "metadata": {},
   "outputs": [
    {
     "data": {
      "text/plain": [
       "Index(['Job Id', 'Experience', 'Qualifications', 'Salary Range', 'location',\n",
       "       'Country', 'latitude', 'longitude', 'Work Type', 'Company Size',\n",
       "       'Job Posting Date', 'Preference', 'Contact Person', 'Contact',\n",
       "       'Job Title', 'Role', 'Job Portal', 'Job Description', 'Benefits',\n",
       "       'skills', 'Responsibilities', 'Company', 'Company Profile'],\n",
       "      dtype='object')"
      ]
     },
     "execution_count": 12,
     "metadata": {},
     "output_type": "execute_result"
    }
   ],
   "source": [
    "df.columns"
   ]
  },
  {
   "cell_type": "code",
   "execution_count": 14,
   "metadata": {},
   "outputs": [
    {
     "name": "stdout",
     "output_type": "stream",
     "text": [
      "Shape after dropping rows with missing values: (1615940, 23)\n"
     ]
    }
   ],
   "source": [
    "# Drop rows with missing job_description or job_title\n",
    "df.dropna(subset=[\"Job Description\", \"Job Title\"], inplace=True)\n",
    "print(\"Shape after dropping rows with missing values:\", df.shape)"
   ]
  },
  {
   "cell_type": "code",
   "execution_count": 15,
   "metadata": {},
   "outputs": [],
   "source": [
    "# Define a function to clean text data\n",
    "def clean_text(text):\n",
    "    text = text.lower()\n",
    "    text = re.sub(r'<[^>]+>', ' ', text) # Remove HTML tags if any\n",
    "    text = re.sub(r'[^a-z\\s]', ' ', text) # Remove punctuation, numbers, special characters\n",
    "    text = re.sub(r'\\s+', ' ',text).strip() # Remove extra whitespace\n",
    "    return text\n"
   ]
  },
  {
   "cell_type": "code",
   "execution_count": 16,
   "metadata": {},
   "outputs": [],
   "source": [
    "# Apply cleaning to  job descriptions and job titles\n",
    "df[\"Cleaned Job Description\"] = df[\"Job Description\"].apply(clean_text)"
   ]
  },
  {
   "cell_type": "code",
   "execution_count": 17,
   "metadata": {},
   "outputs": [],
   "source": [
    "df['Cleaned Job Title'] = df['Job Title'].apply(lambda x: x.lower().strip())"
   ]
  },
  {
   "cell_type": "code",
   "execution_count": 22,
   "metadata": {},
   "outputs": [
    {
     "name": "stdout",
     "output_type": "stream",
     "text": [
      "Preview of cleaned lob descriptions and titles:\n"
     ]
    },
    {
     "data": {
      "text/html": [
       "<div>\n",
       "<style scoped>\n",
       "    .dataframe tbody tr th:only-of-type {\n",
       "        vertical-align: middle;\n",
       "    }\n",
       "\n",
       "    .dataframe tbody tr th {\n",
       "        vertical-align: top;\n",
       "    }\n",
       "\n",
       "    .dataframe thead th {\n",
       "        text-align: right;\n",
       "    }\n",
       "</style>\n",
       "<table border=\"1\" class=\"dataframe\">\n",
       "  <thead>\n",
       "    <tr style=\"text-align: right;\">\n",
       "      <th></th>\n",
       "      <th>Cleaned Job Description</th>\n",
       "      <th>Cleaned Job Title</th>\n",
       "    </tr>\n",
       "  </thead>\n",
       "  <tbody>\n",
       "    <tr>\n",
       "      <th>0</th>\n",
       "      <td>social media managers oversee an organizations...</td>\n",
       "      <td>digital marketing specialist</td>\n",
       "    </tr>\n",
       "    <tr>\n",
       "      <th>1</th>\n",
       "      <td>frontend web developers design and implement u...</td>\n",
       "      <td>web developer</td>\n",
       "    </tr>\n",
       "    <tr>\n",
       "      <th>2</th>\n",
       "      <td>quality control managers establish and enforce...</td>\n",
       "      <td>operations manager</td>\n",
       "    </tr>\n",
       "    <tr>\n",
       "      <th>3</th>\n",
       "      <td>wireless network engineers design implement an...</td>\n",
       "      <td>network engineer</td>\n",
       "    </tr>\n",
       "    <tr>\n",
       "      <th>4</th>\n",
       "      <td>a conference manager coordinates and manages c...</td>\n",
       "      <td>event manager</td>\n",
       "    </tr>\n",
       "  </tbody>\n",
       "</table>\n",
       "</div>"
      ],
      "text/plain": [
       "                             Cleaned Job Description  \\\n",
       "0  social media managers oversee an organizations...   \n",
       "1  frontend web developers design and implement u...   \n",
       "2  quality control managers establish and enforce...   \n",
       "3  wireless network engineers design implement an...   \n",
       "4  a conference manager coordinates and manages c...   \n",
       "\n",
       "              Cleaned Job Title  \n",
       "0  digital marketing specialist  \n",
       "1                 web developer  \n",
       "2            operations manager  \n",
       "3              network engineer  \n",
       "4                 event manager  "
      ]
     },
     "execution_count": 22,
     "metadata": {},
     "output_type": "execute_result"
    }
   ],
   "source": [
    "print(\"Preview of cleaned lob descriptions and titles:\")\n",
    "df[[\"Cleaned Job Description\", \"Cleaned Job Title\"]].head()"
   ]
  },
  {
   "cell_type": "code",
   "execution_count": 23,
   "metadata": {},
   "outputs": [
    {
     "name": "stdout",
     "output_type": "stream",
     "text": [
      "Job title distribution (top 10):\n"
     ]
    },
    {
     "data": {
      "text/plain": [
       "Cleaned Job Title\n",
       "ux/ui designer                  48551\n",
       "digital marketing specialist    27975\n",
       "software engineer               27630\n",
       "network engineer                24393\n",
       "software tester                 20945\n",
       "executive assistant             20776\n",
       "procurement manager             20734\n",
       "financial advisor               20687\n",
       "sales representative            17664\n",
       "social media manager            17613\n",
       "Name: count, dtype: int64"
      ]
     },
     "execution_count": 23,
     "metadata": {},
     "output_type": "execute_result"
    }
   ],
   "source": [
    "# Analyze job title distribution (show top 10)\n",
    "print(\"Job title distribution (top 10):\")\n",
    "df[\"Cleaned Job Title\"].value_counts().head(10)"
   ]
  },
  {
   "cell_type": "markdown",
   "metadata": {},
   "source": [
    "# Feature Extraction using TF-IDF"
   ]
  },
  {
   "cell_type": "code",
   "execution_count": 24,
   "metadata": {},
   "outputs": [
    {
     "name": "stdout",
     "output_type": "stream",
     "text": [
      "TF-IDF feature matrix shape: (1615940, 1421)\n"
     ]
    }
   ],
   "source": [
    "tfidf = TfidfVectorizer(stop_words=\"english\", max_features=5000)\n",
    "X = tfidf.fit_transform(df[\"Cleaned Job Description\"])\n",
    "print(\"TF-IDF feature matrix shape:\", X.shape)"
   ]
  },
  {
   "cell_type": "markdown",
   "metadata": {},
   "source": [
    "# Prepare the Target"
   ]
  },
  {
   "cell_type": "code",
   "execution_count": 26,
   "metadata": {},
   "outputs": [
    {
     "name": "stdout",
     "output_type": "stream",
     "text": [
      "Number of unique job titles: 147\n",
      "Sample job title classes: ['account director' 'account executive' 'account manager' 'accountant'\n",
      " 'administrative assistant' 'aerospace engineer' 'architect'\n",
      " 'architectural designer' 'art director' 'art teacher']\n"
     ]
    }
   ],
   "source": [
    "le = LabelEncoder()\n",
    "y = le.fit_transform(df[\"Cleaned Job Title\"])\n",
    "print(\"Number of unique job titles:\", len(le.classes_))\n",
    "print(\"Sample job title classes:\", le.classes_[:10])"
   ]
  },
  {
   "cell_type": "markdown",
   "metadata": {},
   "source": [
    "# Train-Test Split"
   ]
  },
  {
   "cell_type": "code",
   "execution_count": 28,
   "metadata": {},
   "outputs": [],
   "source": [
    "X_train, X_test, y_train, y_test = train_test_split(X, y, test_size=0.20, random_state=54, stratify=y)"
   ]
  },
  {
   "cell_type": "code",
   "execution_count": 31,
   "metadata": {},
   "outputs": [
    {
     "name": "stdout",
     "output_type": "stream",
     "text": [
      "Training set shape: (1292752, 1421)\n"
     ]
    }
   ],
   "source": [
    "print(\"Training set shape:\", X_train.shape)"
   ]
  },
  {
   "cell_type": "code",
   "execution_count": 32,
   "metadata": {},
   "outputs": [
    {
     "name": "stdout",
     "output_type": "stream",
     "text": [
      "Test set shape: (323188, 1421)\n"
     ]
    }
   ],
   "source": [
    "print(\"Test set shape:\", X_test.shape)"
   ]
  },
  {
   "cell_type": "markdown",
   "metadata": {},
   "source": [
    "# Model Training and Analysis"
   ]
  },
  {
   "cell_type": "markdown",
   "metadata": {},
   "source": [
    "### Train a Decision Tree Classifier"
   ]
  },
  {
   "cell_type": "code",
   "execution_count": 33,
   "metadata": {},
   "outputs": [
    {
     "name": "stdout",
     "output_type": "stream",
     "text": [
      "Decision Tree Accuracy: 1.0\n",
      "Decision Tree Classification Report:\n",
      "                                     precision    recall  f1-score   support\n",
      "\n",
      "                   account director       1.00      1.00      1.00      1385\n",
      "                  account executive       1.00      1.00      1.00      2102\n",
      "                    account manager       1.00      1.00      1.00      2778\n",
      "                         accountant       1.00      1.00      1.00      2103\n",
      "           administrative assistant       1.00      1.00      1.00      3497\n",
      "                 aerospace engineer       1.00      1.00      1.00      2088\n",
      "                          architect       1.00      1.00      1.00      2791\n",
      "             architectural designer       1.00      1.00      1.00      1361\n",
      "                       art director       1.00      1.00      1.00      2077\n",
      "                        art teacher       1.00      1.00      1.00      2122\n",
      "                 back-end developer       1.00      1.00      1.00      1396\n",
      "                   brand ambassador       1.00      1.00      1.00      2127\n",
      "                      brand manager       1.00      1.00      1.00      2103\n",
      "                   business analyst       1.00      1.00      1.00      2057\n",
      "       business development manager       1.00      1.00      1.00      2065\n",
      "                   chemical analyst       1.00      1.00      1.00      2093\n",
      "                  chemical engineer       1.00      1.00      1.00      2069\n",
      "                     civil engineer       1.00      1.00      1.00      2735\n",
      "                     content writer       1.00      1.00      1.00      2774\n",
      "                         copywriter       1.00      1.00      1.00      2088\n",
      "           customer service manager       1.00      1.00      1.00      2095\n",
      "    customer service representative       1.00      1.00      1.00      1406\n",
      "           customer success manager       1.00      1.00      1.00      2789\n",
      "        customer support specialist       1.00      1.00      1.00      3452\n",
      "                       data analyst       1.00      1.00      1.00      3480\n",
      "                      data engineer       1.00      1.00      1.00      2092\n",
      "                   data entry clerk       1.00      1.00      1.00      1414\n",
      "                     data scientist       1.00      1.00      1.00      1388\n",
      "             database administrator       1.00      1.00      1.00      2056\n",
      "                 database developer       1.00      1.00      1.00      1382\n",
      "                   dental hygienist       1.00      1.00      1.00      2087\n",
      "       digital marketing specialist       1.00      1.00      1.00      5595\n",
      "                electrical designer       1.00      1.00      1.00      2081\n",
      "                electrical engineer       1.00      1.00      1.00      2075\n",
      "         email marketing specialist       1.00      1.00      1.00      2076\n",
      "           environmental consultant       1.00      1.00      1.00      2090\n",
      "             environmental engineer       1.00      1.00      1.00      1361\n",
      "                  event coordinator       1.00      1.00      1.00      2778\n",
      "                      event manager       1.00      1.00      1.00       699\n",
      "                      event planner       1.00      1.00      1.00      3477\n",
      "                executive assistant       1.00      1.00      1.00      4155\n",
      "                      family lawyer       1.00      1.00      1.00      1405\n",
      "          family nurse practitioner       1.00      1.00      1.00      2089\n",
      "                    finance manager       1.00      1.00      1.00      2065\n",
      "                  financial advisor       1.00      1.00      1.00      4137\n",
      "                  financial analyst       1.00      1.00      1.00      2059\n",
      "               financial controller       1.00      1.00      1.00      1368\n",
      "                  financial planner       1.00      1.00      1.00       700\n",
      "                front-end developer       1.00      1.00      1.00      2091\n",
      "                 front-end engineer       1.00      1.00      1.00      1417\n",
      "                   graphic designer       1.00      1.00      1.00      2776\n",
      "                     hr coordinator       1.00      1.00      1.00      3452\n",
      "                      hr generalist       1.00      1.00      1.00       699\n",
      "                         hr manager       1.00      1.00      1.00      2081\n",
      "            human resources manager       1.00      1.00      1.00      2036\n",
      "                  interior designer       1.00      1.00      1.00      2099\n",
      "                  inventory analyst       1.00      1.00      1.00       669\n",
      "                 investment advisor       1.00      1.00      1.00       690\n",
      "                 investment analyst       1.00      1.00      1.00      2101\n",
      "                  investment banker       1.00      1.00      1.00      2771\n",
      "                   it administrator       1.00      1.00      1.00       695\n",
      "                         it manager       1.00      1.00      1.00      1418\n",
      "              it support specialist       1.00      1.00      1.00      2105\n",
      "                     java developer       1.00      1.00      1.00      2118\n",
      "                key account manager       1.00      1.00      1.00       682\n",
      "                landscape architect       1.00      1.00      1.00      2763\n",
      "                 landscape designer       1.00      1.00      1.00      1372\n",
      "                      legal advisor       1.00      1.00      1.00      2104\n",
      "                    legal assistant       1.00      1.00      1.00      2813\n",
      "                      legal counsel       1.00      1.00      1.00      2068\n",
      "                    legal secretary       1.00      1.00      1.00      1380\n",
      "                litigation attorney       1.00      1.00      1.00      2778\n",
      "                     market analyst       1.00      1.00      1.00       708\n",
      "            market research analyst       1.00      1.00      1.00      2085\n",
      "                  marketing analyst       1.00      1.00      1.00      2786\n",
      "              marketing coordinator       1.00      1.00      1.00      2083\n",
      "                 marketing director       1.00      1.00      1.00      2082\n",
      "                  marketing manager       1.00      1.00      1.00      2785\n",
      "               marketing specialist       1.00      1.00      1.00      2125\n",
      "                mechanical designer       1.00      1.00      1.00      2056\n",
      "                mechanical engineer       1.00      1.00      1.00      2779\n",
      "              network administrator       1.00      1.00      1.00      3516\n",
      "                    network analyst       1.00      1.00      1.00       697\n",
      "                   network engineer       1.00      1.00      1.00      4879\n",
      "        network security specialist       1.00      1.00      1.00      2104\n",
      "                 network technician       1.00      1.00      1.00      1396\n",
      "                      nurse manager       1.00      1.00      1.00      2035\n",
      "                 nurse practitioner       1.00      1.00      1.00      2107\n",
      "             occupational therapist       1.00      1.00      1.00      2110\n",
      "                     office manager       1.00      1.00      1.00      2089\n",
      "                 operations manager       1.00      1.00      1.00      2788\n",
      "                          paralegal       1.00      1.00      1.00      2097\n",
      "                       pediatrician       1.00      1.00      1.00      2105\n",
      "                 personal assistant       1.00      1.00      1.00       688\n",
      "pharmaceutical sales representative       1.00      1.00      1.00      2090\n",
      "                 physical therapist       1.00      1.00      1.00      2080\n",
      "                physician assistant       1.00      1.00      1.00      2130\n",
      "                   process engineer       1.00      1.00      1.00      1387\n",
      "            procurement coordinator       1.00      1.00      1.00       685\n",
      "                procurement manager       1.00      1.00      1.00      4147\n",
      "             procurement specialist       1.00      1.00      1.00      3470\n",
      "                   product designer       1.00      1.00      1.00       705\n",
      "                    product manager       1.00      1.00      1.00      1375\n",
      "                project coordinator       1.00      1.00      1.00      2761\n",
      "                    project manager       1.00      1.00      1.00      2785\n",
      "                       psychologist       1.00      1.00      1.00      2066\n",
      "        public relations specialist       1.00      1.00      1.00      2100\n",
      "                   purchasing agent       1.00      1.00      1.00      3457\n",
      "                         qa analyst       1.00      1.00      1.00      2103\n",
      "                        qa engineer       1.00      1.00      1.00       688\n",
      "          quality assurance analyst       1.00      1.00      1.00      2106\n",
      "                   registered nurse       1.00      1.00      1.00      2082\n",
      "                   research analyst       1.00      1.00      1.00      2740\n",
      "                 research scientist       1.00      1.00      1.00      2064\n",
      "                    sales associate       1.00      1.00      1.00       696\n",
      "                   sales consultant       1.00      1.00      1.00      2068\n",
      "                      sales manager       1.00      1.00      1.00      2083\n",
      "               sales representative       1.00      1.00      1.00      3533\n",
      "                     sem specialist       1.00      1.00      1.00      2022\n",
      "                        seo analyst       1.00      1.00      1.00      1375\n",
      "                     seo specialist       1.00      1.00      1.00      2080\n",
      "           social media coordinator       1.00      1.00      1.00      1376\n",
      "               social media manager       1.00      1.00      1.00      3523\n",
      "                      social worker       1.00      1.00      1.00      2077\n",
      "                 software architect       1.00      1.00      1.00      2093\n",
      "                 software developer       1.00      1.00      1.00       703\n",
      "                  software engineer       1.00      1.00      1.00      5526\n",
      "                    software tester       1.00      1.00      1.00      4189\n",
      "                   speech therapist       1.00      1.00      1.00      2085\n",
      "                structural engineer       1.00      1.00      1.00      2072\n",
      "          substance abuse counselor       1.00      1.00      1.00      2106\n",
      "               supply chain analyst       1.00      1.00      1.00       701\n",
      "               supply chain manager       1.00      1.00      1.00      2780\n",
      "              systems administrator       1.00      1.00      1.00      3456\n",
      "                    systems analyst       1.00      1.00      1.00      1407\n",
      "                   systems engineer       1.00      1.00      1.00      1391\n",
      "                     tax consultant       1.00      1.00      1.00      2097\n",
      "                            teacher       1.00      1.00      1.00      2102\n",
      "                   technical writer       1.00      1.00      1.00      2075\n",
      "                       ui developer       1.00      1.00      1.00      2785\n",
      "                      urban planner       1.00      1.00      1.00      2097\n",
      "                      ux researcher       1.00      1.00      1.00      2108\n",
      "                     ux/ui designer       1.00      1.00      1.00      9710\n",
      "                       veterinarian       1.00      1.00      1.00      2086\n",
      "                       web designer       1.00      1.00      1.00      1384\n",
      "                      web developer       1.00      1.00      1.00      2072\n",
      "                    wedding planner       1.00      1.00      1.00      1369\n",
      "\n",
      "                           accuracy                           1.00    323188\n",
      "                          macro avg       1.00      1.00      1.00    323188\n",
      "                       weighted avg       1.00      1.00      1.00    323188\n",
      "\n"
     ]
    }
   ],
   "source": [
    "dt_model = DecisionTreeClassifier(random_state=42)\n",
    "dt_model.fit(X_train, y_train)\n",
    "y_pred_dt = dt_model.predict(X_test)\n",
    "dt_accuracy = accuracy_score(y_test, y_pred_dt)\n",
    "print(\"Decision Tree Accuracy:\", dt_accuracy)\n",
    "print(\"Decision Tree Classification Report:\")\n",
    "print(classification_report(y_test, y_pred_dt, target_names=le.classes_))"
   ]
  },
  {
   "cell_type": "markdown",
   "metadata": {},
   "source": [
    "### Train a Random Forest Classifier"
   ]
  },
  {
   "cell_type": "code",
   "execution_count": 34,
   "metadata": {},
   "outputs": [
    {
     "name": "stdout",
     "output_type": "stream",
     "text": [
      "Random Forest Accuracy: 1.0\n",
      "Random Forest Classification Report:\n",
      "                                     precision    recall  f1-score   support\n",
      "\n",
      "                   account director       1.00      1.00      1.00      1385\n",
      "                  account executive       1.00      1.00      1.00      2102\n",
      "                    account manager       1.00      1.00      1.00      2778\n",
      "                         accountant       1.00      1.00      1.00      2103\n",
      "           administrative assistant       1.00      1.00      1.00      3497\n",
      "                 aerospace engineer       1.00      1.00      1.00      2088\n",
      "                          architect       1.00      1.00      1.00      2791\n",
      "             architectural designer       1.00      1.00      1.00      1361\n",
      "                       art director       1.00      1.00      1.00      2077\n",
      "                        art teacher       1.00      1.00      1.00      2122\n",
      "                 back-end developer       1.00      1.00      1.00      1396\n",
      "                   brand ambassador       1.00      1.00      1.00      2127\n",
      "                      brand manager       1.00      1.00      1.00      2103\n",
      "                   business analyst       1.00      1.00      1.00      2057\n",
      "       business development manager       1.00      1.00      1.00      2065\n",
      "                   chemical analyst       1.00      1.00      1.00      2093\n",
      "                  chemical engineer       1.00      1.00      1.00      2069\n",
      "                     civil engineer       1.00      1.00      1.00      2735\n",
      "                     content writer       1.00      1.00      1.00      2774\n",
      "                         copywriter       1.00      1.00      1.00      2088\n",
      "           customer service manager       1.00      1.00      1.00      2095\n",
      "    customer service representative       1.00      1.00      1.00      1406\n",
      "           customer success manager       1.00      1.00      1.00      2789\n",
      "        customer support specialist       1.00      1.00      1.00      3452\n",
      "                       data analyst       1.00      1.00      1.00      3480\n",
      "                      data engineer       1.00      1.00      1.00      2092\n",
      "                   data entry clerk       1.00      1.00      1.00      1414\n",
      "                     data scientist       1.00      1.00      1.00      1388\n",
      "             database administrator       1.00      1.00      1.00      2056\n",
      "                 database developer       1.00      1.00      1.00      1382\n",
      "                   dental hygienist       1.00      1.00      1.00      2087\n",
      "       digital marketing specialist       1.00      1.00      1.00      5595\n",
      "                electrical designer       1.00      1.00      1.00      2081\n",
      "                electrical engineer       1.00      1.00      1.00      2075\n",
      "         email marketing specialist       1.00      1.00      1.00      2076\n",
      "           environmental consultant       1.00      1.00      1.00      2090\n",
      "             environmental engineer       1.00      1.00      1.00      1361\n",
      "                  event coordinator       1.00      1.00      1.00      2778\n",
      "                      event manager       1.00      1.00      1.00       699\n",
      "                      event planner       1.00      1.00      1.00      3477\n",
      "                executive assistant       1.00      1.00      1.00      4155\n",
      "                      family lawyer       1.00      1.00      1.00      1405\n",
      "          family nurse practitioner       1.00      1.00      1.00      2089\n",
      "                    finance manager       1.00      1.00      1.00      2065\n",
      "                  financial advisor       1.00      1.00      1.00      4137\n",
      "                  financial analyst       1.00      1.00      1.00      2059\n",
      "               financial controller       1.00      1.00      1.00      1368\n",
      "                  financial planner       1.00      1.00      1.00       700\n",
      "                front-end developer       1.00      1.00      1.00      2091\n",
      "                 front-end engineer       1.00      1.00      1.00      1417\n",
      "                   graphic designer       1.00      1.00      1.00      2776\n",
      "                     hr coordinator       1.00      1.00      1.00      3452\n",
      "                      hr generalist       1.00      1.00      1.00       699\n",
      "                         hr manager       1.00      1.00      1.00      2081\n",
      "            human resources manager       1.00      1.00      1.00      2036\n",
      "                  interior designer       1.00      1.00      1.00      2099\n",
      "                  inventory analyst       1.00      1.00      1.00       669\n",
      "                 investment advisor       1.00      1.00      1.00       690\n",
      "                 investment analyst       1.00      1.00      1.00      2101\n",
      "                  investment banker       1.00      1.00      1.00      2771\n",
      "                   it administrator       1.00      1.00      1.00       695\n",
      "                         it manager       1.00      1.00      1.00      1418\n",
      "              it support specialist       1.00      1.00      1.00      2105\n",
      "                     java developer       1.00      1.00      1.00      2118\n",
      "                key account manager       1.00      1.00      1.00       682\n",
      "                landscape architect       1.00      1.00      1.00      2763\n",
      "                 landscape designer       1.00      1.00      1.00      1372\n",
      "                      legal advisor       1.00      1.00      1.00      2104\n",
      "                    legal assistant       1.00      1.00      1.00      2813\n",
      "                      legal counsel       1.00      1.00      1.00      2068\n",
      "                    legal secretary       1.00      1.00      1.00      1380\n",
      "                litigation attorney       1.00      1.00      1.00      2778\n",
      "                     market analyst       1.00      1.00      1.00       708\n",
      "            market research analyst       1.00      1.00      1.00      2085\n",
      "                  marketing analyst       1.00      1.00      1.00      2786\n",
      "              marketing coordinator       1.00      1.00      1.00      2083\n",
      "                 marketing director       1.00      1.00      1.00      2082\n",
      "                  marketing manager       1.00      1.00      1.00      2785\n",
      "               marketing specialist       1.00      1.00      1.00      2125\n",
      "                mechanical designer       1.00      1.00      1.00      2056\n",
      "                mechanical engineer       1.00      1.00      1.00      2779\n",
      "              network administrator       1.00      1.00      1.00      3516\n",
      "                    network analyst       1.00      1.00      1.00       697\n",
      "                   network engineer       1.00      1.00      1.00      4879\n",
      "        network security specialist       1.00      1.00      1.00      2104\n",
      "                 network technician       1.00      1.00      1.00      1396\n",
      "                      nurse manager       1.00      1.00      1.00      2035\n",
      "                 nurse practitioner       1.00      1.00      1.00      2107\n",
      "             occupational therapist       1.00      1.00      1.00      2110\n",
      "                     office manager       1.00      1.00      1.00      2089\n",
      "                 operations manager       1.00      1.00      1.00      2788\n",
      "                          paralegal       1.00      1.00      1.00      2097\n",
      "                       pediatrician       1.00      1.00      1.00      2105\n",
      "                 personal assistant       1.00      1.00      1.00       688\n",
      "pharmaceutical sales representative       1.00      1.00      1.00      2090\n",
      "                 physical therapist       1.00      1.00      1.00      2080\n",
      "                physician assistant       1.00      1.00      1.00      2130\n",
      "                   process engineer       1.00      1.00      1.00      1387\n",
      "            procurement coordinator       1.00      1.00      1.00       685\n",
      "                procurement manager       1.00      1.00      1.00      4147\n",
      "             procurement specialist       1.00      1.00      1.00      3470\n",
      "                   product designer       1.00      1.00      1.00       705\n",
      "                    product manager       1.00      1.00      1.00      1375\n",
      "                project coordinator       1.00      1.00      1.00      2761\n",
      "                    project manager       1.00      1.00      1.00      2785\n",
      "                       psychologist       1.00      1.00      1.00      2066\n",
      "        public relations specialist       1.00      1.00      1.00      2100\n",
      "                   purchasing agent       1.00      1.00      1.00      3457\n",
      "                         qa analyst       1.00      1.00      1.00      2103\n",
      "                        qa engineer       1.00      1.00      1.00       688\n",
      "          quality assurance analyst       1.00      1.00      1.00      2106\n",
      "                   registered nurse       1.00      1.00      1.00      2082\n",
      "                   research analyst       1.00      1.00      1.00      2740\n",
      "                 research scientist       1.00      1.00      1.00      2064\n",
      "                    sales associate       1.00      1.00      1.00       696\n",
      "                   sales consultant       1.00      1.00      1.00      2068\n",
      "                      sales manager       1.00      1.00      1.00      2083\n",
      "               sales representative       1.00      1.00      1.00      3533\n",
      "                     sem specialist       1.00      1.00      1.00      2022\n",
      "                        seo analyst       1.00      1.00      1.00      1375\n",
      "                     seo specialist       1.00      1.00      1.00      2080\n",
      "           social media coordinator       1.00      1.00      1.00      1376\n",
      "               social media manager       1.00      1.00      1.00      3523\n",
      "                      social worker       1.00      1.00      1.00      2077\n",
      "                 software architect       1.00      1.00      1.00      2093\n",
      "                 software developer       1.00      1.00      1.00       703\n",
      "                  software engineer       1.00      1.00      1.00      5526\n",
      "                    software tester       1.00      1.00      1.00      4189\n",
      "                   speech therapist       1.00      1.00      1.00      2085\n",
      "                structural engineer       1.00      1.00      1.00      2072\n",
      "          substance abuse counselor       1.00      1.00      1.00      2106\n",
      "               supply chain analyst       1.00      1.00      1.00       701\n",
      "               supply chain manager       1.00      1.00      1.00      2780\n",
      "              systems administrator       1.00      1.00      1.00      3456\n",
      "                    systems analyst       1.00      1.00      1.00      1407\n",
      "                   systems engineer       1.00      1.00      1.00      1391\n",
      "                     tax consultant       1.00      1.00      1.00      2097\n",
      "                            teacher       1.00      1.00      1.00      2102\n",
      "                   technical writer       1.00      1.00      1.00      2075\n",
      "                       ui developer       1.00      1.00      1.00      2785\n",
      "                      urban planner       1.00      1.00      1.00      2097\n",
      "                      ux researcher       1.00      1.00      1.00      2108\n",
      "                     ux/ui designer       1.00      1.00      1.00      9710\n",
      "                       veterinarian       1.00      1.00      1.00      2086\n",
      "                       web designer       1.00      1.00      1.00      1384\n",
      "                      web developer       1.00      1.00      1.00      2072\n",
      "                    wedding planner       1.00      1.00      1.00      1369\n",
      "\n",
      "                           accuracy                           1.00    323188\n",
      "                          macro avg       1.00      1.00      1.00    323188\n",
      "                       weighted avg       1.00      1.00      1.00    323188\n",
      "\n"
     ]
    }
   ],
   "source": [
    "rf_model = RandomForestClassifier(n_estimators=100, random_state=42)\n",
    "rf_model.fit(X_train, y_train)\n",
    "y_pred_rf = rf_model.predict(X_test)\n",
    "rf_accuracy = accuracy_score(y_test, y_pred_rf)\n",
    "print(\"Random Forest Accuracy:\", rf_accuracy)\n",
    "print(\"Random Forest Classification Report:\")\n",
    "print(classification_report(y_test, y_pred_rf, target_names=le.classes_))"
   ]
  },
  {
   "cell_type": "markdown",
   "metadata": {},
   "source": [
    "### Plot and save confusion matrix for Random Forest model\n"
   ]
  },
  {
   "cell_type": "code",
   "execution_count": 35,
   "metadata": {},
   "outputs": [
    {
     "name": "stdout",
     "output_type": "stream",
     "text": [
      "Confusion matrix saved as 'random_forest_confusion_matrix.png'\n"
     ]
    }
   ],
   "source": [
    "cm = confusion_matrix(y_test, y_pred_rf)\n",
    "plt.figure(figsize=(12, 10))\n",
    "sns.heatmap(cm, annot=True, fmt=\"d\", cmap=\"Blues\",\n",
    "            xticklabels=le.classes_, yticklabels=le.classes_)\n",
    "plt.title(\"Random Forest Confusion Matrix\")\n",
    "plt.xlabel(\"Predicted\")\n",
    "plt.ylabel(\"True\")\n",
    "plt.tight_layout()\n",
    "plt.savefig(\"random_forest_confusion_matrix.png\")\n",
    "plt.close()\n",
    "print(\"Confusion matrix saved as 'random_forest_confusion_matrix.png'\")"
   ]
  },
  {
   "cell_type": "markdown",
   "metadata": {},
   "source": [
    "# Save Artifacts (Models, Vectorizer, Label Encoder)"
   ]
  },
  {
   "cell_type": "code",
   "execution_count": 36,
   "metadata": {},
   "outputs": [
    {
     "name": "stdout",
     "output_type": "stream",
     "text": [
      "Artifacts saved successfully in the 'models' directory.\n"
     ]
    }
   ],
   "source": [
    "model_dir = \"models\"\n",
    "os.makedirs(model_dir, exist_ok=True)\n",
    "\n",
    "joblib.dump(tfidf, os.path.join(model_dir, \"tfidf_vectorizer.pkl\"))\n",
    "joblib.dump(dt_model, os.path.join(model_dir, \"decision_tree_model.pkl\"))\n",
    "joblib.dump(rf_model, os.path.join(model_dir, \"random_forest_model.pkl\"))\n",
    "joblib.dump(le, os.path.join(model_dir, \"label_encoder.pkl\"))\n",
    "\n",
    "print(\"Artifacts saved successfully in the 'models' directory.\")"
   ]
  }
 ],
 "metadata": {
  "kernelspec": {
   "display_name": "Python 3",
   "language": "python",
   "name": "python3"
  },
  "language_info": {
   "codemirror_mode": {
    "name": "ipython",
    "version": 3
   },
   "file_extension": ".py",
   "mimetype": "text/x-python",
   "name": "python",
   "nbconvert_exporter": "python",
   "pygments_lexer": "ipython3",
   "version": "3.10.11"
  }
 },
 "nbformat": 4,
 "nbformat_minor": 2
}
